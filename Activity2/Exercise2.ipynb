{
  "nbformat": 4,
  "nbformat_minor": 0,
  "metadata": {
    "colab": {
      "provenance": []
    },
    "kernelspec": {
      "name": "python3",
      "display_name": "Python 3"
    },
    "language_info": {
      "name": "python"
    }
  },
  "cells": [
    {
      "cell_type": "markdown",
      "metadata": {
        "id": "view-in-github"
      },
      "source": [
        "<a href=\"https://colab.research.google.com/github/robitussin/CCRNFLRL_EXERCISES/blob/main/Exercise2.ipynb\" target=\"_parent\"><img src=\"https://colab.research.google.com/assets/colab-badge.svg\" alt=\"Open In Colab\"/></a>"
      ]
    },
    {
      "cell_type": "markdown",
      "source": [
        "# Exercise 2"
      ],
      "metadata": {
        "id": "gh4_1T3XTRg6"
      }
    },
    {
      "cell_type": "code",
      "source": [
        "from math import sqrt, log\n",
        "import pandas as pd"
      ],
      "metadata": {
        "id": "-6zwzOH0TMq0"
      },
      "execution_count": null,
      "outputs": []
    },
    {
      "cell_type": "code",
      "source": [
        "# Make sure your spreadsheet is saved in your google drive\n",
        "\n",
        "from google.colab import drive\n",
        "drive.mount('/content/drive')"
      ],
      "metadata": {
        "id": "qu0DiZ3w261j",
        "colab": {
          "base_uri": "https://localhost:8080/"
        },
        "outputId": "9db71f95-6d2b-40c8-bee8-111f65155a97"
      },
      "execution_count": null,
      "outputs": [
        {
          "output_type": "stream",
          "name": "stdout",
          "text": [
            "Drive already mounted at /content/drive; to attempt to forcibly remount, call drive.mount(\"/content/drive\", force_remount=True).\n"
          ]
        }
      ]
    },
    {
      "cell_type": "markdown",
      "source": [
        "## Step 1: Enter your data\n",
        "\n",
        "Add a new row after each pull: Pull number, Machine played (\"A\", \"B\", \"C\"), and Reward earned."
      ],
      "metadata": {
        "id": "kZCcIK8dTkot"
      }
    },
    {
      "cell_type": "code",
      "source": [
        "# To load data from a Google Sheet, you need the SHEET_ID and SHEET_NAME.\n",
        "# You can find the SHEET_ID in the URL of your Google Sheet, between \"/d/\" and \"/edit\".\n",
        "# The SHEET_NAME is usually \"Sheet1\" by default, but you should verify the name of the sheet containing your data.\n",
        "# Ensure your Google Sheet is shared with \"Anyone with the link\" as Viewer.\n",
        "\n",
        "SHEET_ID = '1ufKj5SXswfzCgmtC48jm9v92-Sl0JKM8SOixZGfLSGs'\n",
        "SHEET_NAME = 'UCB'\n",
        "url = f'https://docs.google.com/spreadsheets/d/{SHEET_ID}/gviz/tq?tqx=out:csv&sheet={SHEET_NAME}'\n",
        "\n",
        "try:\n",
        "    data = pd.read_csv(url)\n",
        "    print(\"Data loaded successfully:\")\n",
        "except Exception as e:\n",
        "    print(f\"Error loading data: {e}\")\n",
        "    print(\"Please ensure the sheet is publicly accessible or shared with 'Anyone with the link' as Viewer.\")"
      ],
      "metadata": {
        "colab": {
          "base_uri": "https://localhost:8080/"
        },
        "id": "j4tJVIxW3w3K",
        "outputId": "91fd207c-9cc4-4efb-846a-8291c8bb1103"
      },
      "execution_count": null,
      "outputs": [
        {
          "output_type": "stream",
          "name": "stdout",
          "text": [
            "Data loaded successfully:\n"
          ]
        }
      ]
    },
    {
      "cell_type": "markdown",
      "source": [
        "# Step 2: Calculate UCB"
      ],
      "metadata": {
        "id": "9pAruytjTt-b"
      }
    },
    {
      "cell_type": "code",
      "execution_count": null,
      "metadata": {
        "id": "7iyebQ41S3pA"
      },
      "outputs": [],
      "source": [
        "def calculate_ucb(df):\n",
        "    results = []\n",
        "    total_pulls = df.dropna(subset=['Machine'])['Pull #'].max()\n",
        "    print(total_pulls)\n",
        "    if pd.isna(total_pulls):\n",
        "        total_pulls = 0\n",
        "\n",
        "    machines = sorted(df[\"Machine\"].dropna().unique())\n",
        "\n",
        "    for machine in machines:\n",
        "        machine_data = df[df[\"Machine\"] == machine].dropna(subset=['Pull #', 'Reward'])\n",
        "        n_j = len(machine_data)\n",
        "        avg_reward = machine_data[\"Reward\"].mean() if n_j > 0 else 0\n",
        "        exploration_bonus = sqrt((2 * log(total_pulls)) / n_j) if n_j > 0 and total_pulls > 0 else float(\"inf\")\n",
        "        ucb_score = avg_reward + exploration_bonus\n",
        "        results.append({\n",
        "            \"Machine\": machine,\n",
        "            \"UCB Score\": round(ucb_score, 4)\n",
        "        })\n",
        "    return pd.DataFrame(results).sort_values(by=\"UCB Score\", ascending=False)"
      ]
    },
    {
      "cell_type": "markdown",
      "source": [
        "\n",
        "# Step 3: Calculate and display\n"
      ],
      "metadata": {
        "id": "GmVaGjpdT4eA"
      }
    },
    {
      "cell_type": "code",
      "source": [
        "ucb_table = calculate_ucb(data)\n",
        "print(\"📊 UCB Results Table\")\n",
        "print(ucb_table)"
      ],
      "metadata": {
        "colab": {
          "base_uri": "https://localhost:8080/"
        },
        "id": "ZXBIvOEVTVND",
        "outputId": "d6cc42c2-991c-4203-e8ab-88d7532b768d"
      },
      "execution_count": null,
      "outputs": [
        {
          "output_type": "stream",
          "name": "stdout",
          "text": [
            "100\n",
            "📊 UCB Results Table\n",
            "  Machine  UCB Score\n",
            "0       A     1.1516\n",
            "2       C     1.0969\n",
            "1       B     1.0597\n"
          ]
        }
      ]
    },
    {
      "cell_type": "code",
      "source": [
        "last_input_index = data.dropna(subset=['Machine']).index.max()\n",
        "\n",
        "if pd.isna(last_input_index):\n",
        "    print(\"No machine data has been inputted yet to update UCB scores.\")\n",
        "else:\n",
        "\n",
        "    ucb_a_score = ucb_table[ucb_table['Machine'] == 'A']['UCB Score'].iloc[0] if 'A' in ucb_table['Machine'].values else None\n",
        "    ucb_b_score = ucb_table[ucb_table['Machine'] == 'B']['UCB Score'].iloc[0] if 'B' in ucb_table['Machine'].values else None\n",
        "    ucb_c_score = ucb_table[ucb_table['Machine'] == 'C']['UCB Score'].iloc[0] if 'C' in ucb_table['Machine'].values else None\n",
        "\n",
        "    # Update the corresponding UCB score columns in the last inputted row\n",
        "    if 'UCB Score A' in data.columns and ucb_a_score is not None:\n",
        "        data.loc[last_input_index, 'UCB Score A'] = ucb_a_score\n",
        "    else:\n",
        "         print(\"Warning: Could not update 'UCB Score A'. Column not found or Machine A score not available.\")\n",
        "\n",
        "    if 'UCB Score B' in data.columns and ucb_b_score is not None:\n",
        "        data.loc[last_input_index, 'UCB Score B'] = ucb_b_score\n",
        "    else:\n",
        "        print(\"Warning: Could not update 'UCB Score B'. Column not found or Machine B score not available.\")\n",
        "\n",
        "    if 'UCB Score C' in data.columns and ucb_c_score is not None:\n",
        "        data.loc[last_input_index, 'UCB Score C'] = ucb_c_score\n",
        "    else:\n",
        "        print(\"Warning: Could not update 'UCB Score C'. Column not found or Machine C score not available.\")\n",
        "\n",
        "    print(f\"UCB scores for Machines A, B, and C updated in the last inputted row (index: {last_input_index}) of the data DataFrame.\")\n",
        "    # Display the updated last row with the relevant columns\n",
        "    display(data.loc[[last_input_index], ['Pull #', 'Machine', 'Reward', 'UCB Score A', 'UCB Score B', 'UCB Score C']])"
      ],
      "metadata": {
        "colab": {
          "base_uri": "https://localhost:8080/",
          "height": 98
        },
        "id": "JLdqm2ZyA7Xe",
        "outputId": "3f06498a-a1fe-4c89-b1fe-6c125b3457a7"
      },
      "execution_count": null,
      "outputs": [
        {
          "output_type": "stream",
          "name": "stdout",
          "text": [
            "UCB scores for Machines A, B, and C updated in the last inputted row (index: 99) of the data DataFrame.\n"
          ]
        },
        {
          "output_type": "display_data",
          "data": {
            "text/plain": [
              "    Pull # Machine  Reward  UCB Score A  UCB Score B  UCB Score C\n",
              "99     100       A       0       1.1516       1.0597       1.0969"
            ],
            "text/html": [
              "\n",
              "  <div id=\"df-1e58957d-6484-42aa-a972-826fb54c1a47\" class=\"colab-df-container\">\n",
              "    <div>\n",
              "<style scoped>\n",
              "    .dataframe tbody tr th:only-of-type {\n",
              "        vertical-align: middle;\n",
              "    }\n",
              "\n",
              "    .dataframe tbody tr th {\n",
              "        vertical-align: top;\n",
              "    }\n",
              "\n",
              "    .dataframe thead th {\n",
              "        text-align: right;\n",
              "    }\n",
              "</style>\n",
              "<table border=\"1\" class=\"dataframe\">\n",
              "  <thead>\n",
              "    <tr style=\"text-align: right;\">\n",
              "      <th></th>\n",
              "      <th>Pull #</th>\n",
              "      <th>Machine</th>\n",
              "      <th>Reward</th>\n",
              "      <th>UCB Score A</th>\n",
              "      <th>UCB Score B</th>\n",
              "      <th>UCB Score C</th>\n",
              "    </tr>\n",
              "  </thead>\n",
              "  <tbody>\n",
              "    <tr>\n",
              "      <th>99</th>\n",
              "      <td>100</td>\n",
              "      <td>A</td>\n",
              "      <td>0</td>\n",
              "      <td>1.1516</td>\n",
              "      <td>1.0597</td>\n",
              "      <td>1.0969</td>\n",
              "    </tr>\n",
              "  </tbody>\n",
              "</table>\n",
              "</div>\n",
              "    <div class=\"colab-df-buttons\">\n",
              "\n",
              "  <div class=\"colab-df-container\">\n",
              "    <button class=\"colab-df-convert\" onclick=\"convertToInteractive('df-1e58957d-6484-42aa-a972-826fb54c1a47')\"\n",
              "            title=\"Convert this dataframe to an interactive table.\"\n",
              "            style=\"display:none;\">\n",
              "\n",
              "  <svg xmlns=\"http://www.w3.org/2000/svg\" height=\"24px\" viewBox=\"0 -960 960 960\">\n",
              "    <path d=\"M120-120v-720h720v720H120Zm60-500h600v-160H180v160Zm220 220h160v-160H400v160Zm0 220h160v-160H400v160ZM180-400h160v-160H180v160Zm440 0h160v-160H620v160ZM180-180h160v-160H180v160Zm440 0h160v-160H620v160Z\"/>\n",
              "  </svg>\n",
              "    </button>\n",
              "\n",
              "  <style>\n",
              "    .colab-df-container {\n",
              "      display:flex;\n",
              "      gap: 12px;\n",
              "    }\n",
              "\n",
              "    .colab-df-convert {\n",
              "      background-color: #E8F0FE;\n",
              "      border: none;\n",
              "      border-radius: 50%;\n",
              "      cursor: pointer;\n",
              "      display: none;\n",
              "      fill: #1967D2;\n",
              "      height: 32px;\n",
              "      padding: 0 0 0 0;\n",
              "      width: 32px;\n",
              "    }\n",
              "\n",
              "    .colab-df-convert:hover {\n",
              "      background-color: #E2EBFA;\n",
              "      box-shadow: 0px 1px 2px rgba(60, 64, 67, 0.3), 0px 1px 3px 1px rgba(60, 64, 67, 0.15);\n",
              "      fill: #174EA6;\n",
              "    }\n",
              "\n",
              "    .colab-df-buttons div {\n",
              "      margin-bottom: 4px;\n",
              "    }\n",
              "\n",
              "    [theme=dark] .colab-df-convert {\n",
              "      background-color: #3B4455;\n",
              "      fill: #D2E3FC;\n",
              "    }\n",
              "\n",
              "    [theme=dark] .colab-df-convert:hover {\n",
              "      background-color: #434B5C;\n",
              "      box-shadow: 0px 1px 3px 1px rgba(0, 0, 0, 0.15);\n",
              "      filter: drop-shadow(0px 1px 2px rgba(0, 0, 0, 0.3));\n",
              "      fill: #FFFFFF;\n",
              "    }\n",
              "  </style>\n",
              "\n",
              "    <script>\n",
              "      const buttonEl =\n",
              "        document.querySelector('#df-1e58957d-6484-42aa-a972-826fb54c1a47 button.colab-df-convert');\n",
              "      buttonEl.style.display =\n",
              "        google.colab.kernel.accessAllowed ? 'block' : 'none';\n",
              "\n",
              "      async function convertToInteractive(key) {\n",
              "        const element = document.querySelector('#df-1e58957d-6484-42aa-a972-826fb54c1a47');\n",
              "        const dataTable =\n",
              "          await google.colab.kernel.invokeFunction('convertToInteractive',\n",
              "                                                    [key], {});\n",
              "        if (!dataTable) return;\n",
              "\n",
              "        const docLinkHtml = 'Like what you see? Visit the ' +\n",
              "          '<a target=\"_blank\" href=https://colab.research.google.com/notebooks/data_table.ipynb>data table notebook</a>'\n",
              "          + ' to learn more about interactive tables.';\n",
              "        element.innerHTML = '';\n",
              "        dataTable['output_type'] = 'display_data';\n",
              "        await google.colab.output.renderOutput(dataTable, element);\n",
              "        const docLink = document.createElement('div');\n",
              "        docLink.innerHTML = docLinkHtml;\n",
              "        element.appendChild(docLink);\n",
              "      }\n",
              "    </script>\n",
              "  </div>\n",
              "\n",
              "\n",
              "    </div>\n",
              "  </div>\n"
            ],
            "application/vnd.google.colaboratory.intrinsic+json": {
              "type": "dataframe",
              "summary": "{\n  \"name\": \"    display(data\",\n  \"rows\": 1,\n  \"fields\": [\n    {\n      \"column\": \"Pull #\",\n      \"properties\": {\n        \"dtype\": \"number\",\n        \"std\": null,\n        \"min\": 100,\n        \"max\": 100,\n        \"num_unique_values\": 1,\n        \"samples\": [\n          100\n        ],\n        \"semantic_type\": \"\",\n        \"description\": \"\"\n      }\n    },\n    {\n      \"column\": \"Machine\",\n      \"properties\": {\n        \"dtype\": \"string\",\n        \"num_unique_values\": 1,\n        \"samples\": [\n          \"A\"\n        ],\n        \"semantic_type\": \"\",\n        \"description\": \"\"\n      }\n    },\n    {\n      \"column\": \"Reward\",\n      \"properties\": {\n        \"dtype\": \"number\",\n        \"std\": null,\n        \"min\": 0,\n        \"max\": 0,\n        \"num_unique_values\": 1,\n        \"samples\": [\n          0\n        ],\n        \"semantic_type\": \"\",\n        \"description\": \"\"\n      }\n    },\n    {\n      \"column\": \"UCB Score A\",\n      \"properties\": {\n        \"dtype\": \"number\",\n        \"std\": null,\n        \"min\": 1.1516,\n        \"max\": 1.1516,\n        \"num_unique_values\": 1,\n        \"samples\": [\n          1.1516\n        ],\n        \"semantic_type\": \"\",\n        \"description\": \"\"\n      }\n    },\n    {\n      \"column\": \"UCB Score B\",\n      \"properties\": {\n        \"dtype\": \"number\",\n        \"std\": null,\n        \"min\": 1.0597,\n        \"max\": 1.0597,\n        \"num_unique_values\": 1,\n        \"samples\": [\n          1.0597\n        ],\n        \"semantic_type\": \"\",\n        \"description\": \"\"\n      }\n    },\n    {\n      \"column\": \"UCB Score C\",\n      \"properties\": {\n        \"dtype\": \"number\",\n        \"std\": null,\n        \"min\": 1.0969,\n        \"max\": 1.0969,\n        \"num_unique_values\": 1,\n        \"samples\": [\n          1.0969\n        ],\n        \"semantic_type\": \"\",\n        \"description\": \"\"\n      }\n    }\n  ]\n}"
            }
          },
          "metadata": {}
        }
      ]
    },
    {
      "cell_type": "code",
      "source": [
        "best_machine = ucb_table.iloc[0][\"Machine\"]\n",
        "print(f\"\\n🎯 Recommended next machine to play: {best_machine}\")"
      ],
      "metadata": {
        "colab": {
          "base_uri": "https://localhost:8080/"
        },
        "id": "i-40KDYWC-hU",
        "outputId": "d10c9fa4-41c7-4455-99c4-ae5e8ae87be8"
      },
      "execution_count": null,
      "outputs": [
        {
          "output_type": "stream",
          "name": "stdout",
          "text": [
            "\n",
            "🎯 Recommended next machine to play: A\n"
          ]
        }
      ]
    },
    {
      "cell_type": "markdown",
      "source": [
        "After 100 pulls, Machine A (Treasures of Egypt) was the most profitable with 64 total winnings, with an average of 0.8101265823.\n",
        "\n",
        "Machine B got 0.1 and Machine C got 0.1818181818"
      ],
      "metadata": {
        "id": "PfmUxi2LOzdF"
      }
    },
    {
      "cell_type": "code",
      "source": [],
      "metadata": {
        "id": "4u5CNpvEPH_m"
      },
      "execution_count": null,
      "outputs": []
    }
  ]
}